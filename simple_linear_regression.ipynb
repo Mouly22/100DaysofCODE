{
  "nbformat": 4,
  "nbformat_minor": 0,
  "metadata": {
    "colab": {
      "name": "simple_linear_regression.ipynb",
      "provenance": [],
      "authorship_tag": "ABX9TyM9bYwPosa9+b9Wxh9GY1dX",
      "include_colab_link": true
    },
    "kernelspec": {
      "name": "python3",
      "display_name": "Python 3"
    },
    "language_info": {
      "name": "python"
    }
  },
  "cells": [
    {
      "cell_type": "markdown",
      "metadata": {
        "id": "view-in-github",
        "colab_type": "text"
      },
      "source": [
        "<a href=\"https://colab.research.google.com/github/Mouly22/100DaysofCODE/blob/main/simple_linear_regression.ipynb\" target=\"_parent\"><img src=\"https://colab.research.google.com/assets/colab-badge.svg\" alt=\"Open In Colab\"/></a>"
      ]
    },
    {
      "cell_type": "markdown",
      "source": [
        "# Importing the libraries"
      ],
      "metadata": {
        "id": "UQ-ttJl0bEqm"
      }
    },
    {
      "cell_type": "code",
      "execution_count": null,
      "metadata": {
        "id": "WYU4_xjg6hnk"
      },
      "outputs": [],
      "source": [
        "import numpy as np\n",
        "import matplotlib.pyplot as plt\n",
        "import pandas as pd"
      ]
    },
    {
      "cell_type": "markdown",
      "source": [
        "# Importing the dataset"
      ],
      "metadata": {
        "id": "fcMAeK25bDsQ"
      }
    },
    {
      "cell_type": "code",
      "source": [
        "dataset = pd.read_csv('Salary_Data.csv')\n",
        "x = dataset.iloc[:, : -1].values\n",
        "y = dataset.iloc[:, -1].values"
      ],
      "metadata": {
        "id": "CIUjB3-May2p"
      },
      "execution_count": null,
      "outputs": []
    },
    {
      "cell_type": "markdown",
      "source": [
        "# Splitting the Dataset into Training set and Test set"
      ],
      "metadata": {
        "id": "AXzsMs1cZRZk"
      }
    },
    {
      "cell_type": "code",
      "source": [
        "from sklearn.model_selection import train_test_split\n",
        "x_train, x_test, y_train, y_test = train_test_split(x, y, test_size = 0.2, random_state = 0)\n",
        "\n"
      ],
      "metadata": {
        "id": "xoHGhxPRay-V"
      },
      "execution_count": null,
      "outputs": []
    },
    {
      "cell_type": "markdown",
      "source": [
        "# Training the Simple Linear Regression model on the Training set"
      ],
      "metadata": {
        "id": "AU2kTTAZad0S"
      }
    },
    {
      "cell_type": "code",
      "source": [
        "from sklearn.linear_model import LinearRegression       #after importing linearregression we need to fit it according our model\n",
        "g = LinearRegression()\n",
        "g.fit(x_train, y_train)\n"
      ],
      "metadata": {
        "id": "S_3ERdI-azCf",
        "colab": {
          "base_uri": "https://localhost:8080/"
        },
        "outputId": "6755f059-9cc6-4a78-f32f-c0b13fae3e67"
      },
      "execution_count": null,
      "outputs": [
        {
          "output_type": "execute_result",
          "data": {
            "text/plain": [
              "LinearRegression()"
            ]
          },
          "metadata": {},
          "execution_count": 9
        }
      ]
    },
    {
      "cell_type": "markdown",
      "source": [
        "# Predicting the Test set results"
      ],
      "metadata": {
        "id": "gH055Z7_jOoI"
      }
    },
    {
      "cell_type": "code",
      "source": [
        "y_pred = g.predict(x_test)"
      ],
      "metadata": {
        "id": "6DAnRz4xazFW"
      },
      "execution_count": 15,
      "outputs": []
    },
    {
      "cell_type": "markdown",
      "source": [
        "# Visualising the Training Test Result"
      ],
      "metadata": {
        "id": "wUYQjUHVwXFD"
      }
    },
    {
      "cell_type": "code",
      "source": [
        "plt.scatter(x_train, y_train, color = 'red')\n",
        "plt.plot(x_train, g.predict(x_train), color = 'blue')\n",
        "plt.title('Salary vs Experience(Training set)')\n",
        "plt.xlabel('Years of experience')\n",
        "plt.ylabel('Salary')\n",
        "plt.show()"
      ],
      "metadata": {
        "colab": {
          "base_uri": "https://localhost:8080/",
          "height": 295
        },
        "id": "ElzY2s5yBTnA",
        "outputId": "e454c55c-6560-4b63-c206-59fe76e10b0a"
      },
      "execution_count": 16,
      "outputs": [
        {
          "output_type": "display_data",
          "data": {
            "text/plain": [
              "<Figure size 432x288 with 1 Axes>"
            ],
            "image/png": "[encoded data removed]"
          },
          "metadata": {
            "needs_background": "light"
          }
        }
      ]
    },
    {
      "cell_type": "markdown",
      "source": [
        "# Visualising the Test set results"
      ],
      "metadata": {
        "id": "7OiU56SKB5rv"
      }
    },
    {
      "cell_type": "code",
      "source": [
        "plt.scatter(x_test, y_test, color = 'red')\n",
        "plt.plot(x_train, g.predict(x_train), color='blue')\n",
        "plt.title(\"Salary vs Experience(Test set)\")\n",
        "plt.xlabel(\"Years of experience\")\n",
        "plt.ylabel(\"Salary\")\n",
        "plt.show()"
      ],
      "metadata": {
        "colab": {
          "base_uri": "https://localhost:8080/",
          "height": 295
        },
        "id": "mbPZPi13B-Oj",
        "outputId": "cc1a8c29-7c81-4667-ca9e-097d07ed648e"
      },
      "execution_count": 18,
      "outputs": [
        {
          "output_type": "display_data",
          "data": {
            "text/plain": [
              "<Figure size 432x288 with 1 Axes>"
            ],
            "image/png": "[encoded data removed]"
          },
          "metadata": {
            "needs_background": "light"
          }
        }
      ]
    }
  ]
}